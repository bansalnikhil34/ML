{
 "cells": [
  {
   "cell_type": "code",
   "execution_count": 1,
   "metadata": {},
   "outputs": [],
   "source": [
    "# ques 1"
   ]
  },
  {
   "cell_type": "code",
   "execution_count": 2,
   "metadata": {},
   "outputs": [],
   "source": [
    "import numpy as np\n",
    "def Vandermonde(l,n,order):\n",
    "    if order == True:\n",
    "        matrix=np.array([i**j for i in l for j in range(n)]).reshape(len(l),n)\n",
    "        return matrix\n",
    "    else:\n",
    "        matrix=np.array([i**j for i in l for j in range(n-1,-1,-1)]).reshape(len(l),n)\n",
    "        return matrix"
   ]
  },
  {
   "cell_type": "code",
   "execution_count": 3,
   "metadata": {},
   "outputs": [
    {
     "data": {
      "text/plain": [
       "array([[  1,   1,   1,   1,   1],\n",
       "       [ 16,   8,   4,   2,   1],\n",
       "       [ 81,  27,   9,   3,   1],\n",
       "       [256,  64,  16,   4,   1],\n",
       "       [625, 125,  25,   5,   1]])"
      ]
     },
     "execution_count": 3,
     "metadata": {},
     "output_type": "execute_result"
    }
   ],
   "source": [
    "l=[1,2,3,4,5]\n",
    "n=5\n",
    "Vandermonde(l,n,False)"
   ]
  },
  {
   "cell_type": "code",
   "execution_count": 4,
   "metadata": {},
   "outputs": [],
   "source": [
    "import numpy as np\n",
    "def Vandermonde(l,n,order):\n",
    "    if order == True:\n",
    "        matrix=np.array([i**j for i in l for j in range(n)]).reshape(len(l),n)\n",
    "        return matrix\n",
    "    else:\n",
    "        matrix=np.array([i**(n-j-1) for i in l for j in range(n)]).reshape(len(l),n)\n",
    "        return matrix"
   ]
  },
  {
   "cell_type": "code",
   "execution_count": 5,
   "metadata": {},
   "outputs": [
    {
     "data": {
      "text/plain": [
       "array([[  1,   1,   1,   1,   1],\n",
       "       [  1,   2,   4,   8,  16],\n",
       "       [  1,   3,   9,  27,  81],\n",
       "       [  1,   4,  16,  64, 256],\n",
       "       [  1,   5,  25, 125, 625]])"
      ]
     },
     "execution_count": 5,
     "metadata": {},
     "output_type": "execute_result"
    }
   ],
   "source": [
    "l=[1,2,3,4,5]\n",
    "n=5\n",
    "Vandermonde(l,n,True)"
   ]
  },
  {
   "cell_type": "code",
   "execution_count": 6,
   "metadata": {},
   "outputs": [],
   "source": [
    "# ques 2"
   ]
  },
  {
   "cell_type": "code",
   "execution_count": 7,
   "metadata": {},
   "outputs": [
    {
     "data": {
      "text/plain": [
       "11"
      ]
     },
     "execution_count": 7,
     "metadata": {},
     "output_type": "execute_result"
    }
   ],
   "source": [
    "l=[3, 5, 7, 2, 8, 10, 11, 65, 72, 81, 99, 100, 150]\n",
    "k=3\n",
    "\n",
    "moving_average=len(l)-k+1\n",
    "moving_average"
   ]
  },
  {
   "cell_type": "code",
   "execution_count": 8,
   "metadata": {},
   "outputs": [],
   "source": [
    "def add(m):\n",
    "    length=len(m)\n",
    "    for i in range(length-1):\n",
    "        a=m[0]+m[1]\n",
    "        m.pop(1)\n",
    "        m[0]=a\n",
    "    return m.pop(0)\n",
    "def moving_Average(l,k):\n",
    "    r=[]\n",
    "    n=len(l)-k+1\n",
    "    for i in range(n):\n",
    "        for j in range(k):\n",
    "            r.append(l[j])\n",
    "        p=l.pop(0)\n",
    "        print(\"y\"+str(i)+\"  \"+str(add(r)/k))\n",
    "             "
   ]
  },
  {
   "cell_type": "code",
   "execution_count": 9,
   "metadata": {},
   "outputs": [
    {
     "name": "stdout",
     "output_type": "stream",
     "text": [
      "y0  5.0\n",
      "y1  4.666666666666667\n",
      "y2  5.666666666666667\n",
      "y3  6.666666666666667\n",
      "y4  9.666666666666666\n",
      "y5  28.666666666666668\n",
      "y6  49.333333333333336\n",
      "y7  72.66666666666667\n",
      "y8  84.0\n",
      "y9  93.33333333333333\n",
      "y10  116.33333333333333\n"
     ]
    }
   ],
   "source": [
    "l=[3, 5, 7, 2, 8, 10, 11, 65, 72, 81, 99, 100, 150]\n",
    "k=3\n",
    "moving_Average(l,k)"
   ]
  },
  {
   "cell_type": "code",
   "execution_count": 17,
   "metadata": {},
   "outputs": [],
   "source": [
    "# using sum function\n",
    "\n",
    "def moving_Average(l,k):\n",
    "    n=len(l)-k+1\n",
    "    for i in range(n):\n",
    "        r=[]\n",
    "        for j in range(k):\n",
    "            r.append(l[j])\n",
    "        p=l.pop(0)\n",
    "        print(\"y\"+str(i)+\"  \"+str(int(sum(r)/k)))"
   ]
  },
  {
   "cell_type": "code",
   "execution_count": 18,
   "metadata": {},
   "outputs": [
    {
     "name": "stdout",
     "output_type": "stream",
     "text": [
      "y0  5\n",
      "y1  4\n",
      "y2  5\n",
      "y3  6\n",
      "y4  9\n",
      "y5  28\n",
      "y6  49\n",
      "y7  72\n",
      "y8  84\n",
      "y9  93\n",
      "y10  116\n"
     ]
    }
   ],
   "source": [
    "l=[3, 5, 7, 2, 8, 10, 11, 65, 72, 81, 99, 100, 150]\n",
    "k=3\n",
    "moving_Average(l,k)"
   ]
  },
  {
   "cell_type": "code",
   "execution_count": null,
   "metadata": {},
   "outputs": [],
   "source": []
  }
 ],
 "metadata": {
  "kernelspec": {
   "display_name": "Python 3",
   "language": "python",
   "name": "python3"
  },
  "language_info": {
   "codemirror_mode": {
    "name": "ipython",
    "version": 3
   },
   "file_extension": ".py",
   "mimetype": "text/x-python",
   "name": "python",
   "nbconvert_exporter": "python",
   "pygments_lexer": "ipython3",
   "version": "3.7.6"
  }
 },
 "nbformat": 4,
 "nbformat_minor": 4
}
